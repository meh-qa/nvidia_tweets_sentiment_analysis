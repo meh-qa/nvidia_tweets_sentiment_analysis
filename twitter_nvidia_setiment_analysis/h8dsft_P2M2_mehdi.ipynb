{
  "cells": [
    {
      "cell_type": "markdown",
      "metadata": {
        "id": "xsYKL7lWmfXr"
      },
      "source": [
        "# Perkenalan"
      ]
    },
    {
      "cell_type": "markdown",
      "metadata": {
        "id": "7FGElOG_miEr"
      },
      "source": [
        "Nama : Mehdi Mursalat Ismail\n",
        "\n",
        "Batch : FTDS-020-RMT\n",
        "\n",
        "Dataset : twitter_training.csv\n",
        "\n",
        "Objective : Predict sentiment of tweet of nvidia."
      ]
    },
    {
      "cell_type": "markdown",
      "metadata": {
        "id": "T5ov8qr_m2sn"
      },
      "source": [
        "# Import Libraries"
      ]
    },
    {
      "cell_type": "code",
      "execution_count": 207,
      "metadata": {
        "id": "J6jA7U8BPm3P"
      },
      "outputs": [],
      "source": [
        "# Import Libraries\n",
        "\n",
        "import numpy as np\n",
        "import pandas as pd\n",
        "from matplotlib import pyplot as plt\n",
        "import nltk\n",
        "import re \n",
        "import tensorflow as tf\n",
        "from nltk.tokenize import word_tokenize\n",
        "from nltk.corpus import stopwords\n",
        "from nltk.stem.porter import PorterStemmer\n",
        "from keras.preprocessing.text import Tokenizer\n",
        "from tensorflow.keras.preprocessing.sequence import pad_sequences\n",
        "from sklearn.model_selection import train_test_split\n",
        "from keras.models import Sequential\n",
        "from keras.layers import Dense, Dropout, Embedding, LSTM, GlobalMaxPooling1D, SpatialDropout1D\n",
        "from sklearn.metrics import classification_report\n",
        "from tensorflow.keras.models import load_model"
      ]
    },
    {
      "cell_type": "markdown",
      "metadata": {
        "id": "NSl-ZB5onalA"
      },
      "source": [
        "# Data Loading"
      ]
    },
    {
      "cell_type": "code",
      "execution_count": 208,
      "metadata": {
        "colab": {
          "base_uri": "https://localhost:8080/",
          "height": 572
        },
        "id": "6GQOP4YTncZb",
        "outputId": "f796ae04-9016-4c2b-982a-b13c4a9225d5"
      },
      "outputs": [
        {
          "data": {
            "text/html": [
              "<div>\n",
              "<style scoped>\n",
              "    .dataframe tbody tr th:only-of-type {\n",
              "        vertical-align: middle;\n",
              "    }\n",
              "\n",
              "    .dataframe tbody tr th {\n",
              "        vertical-align: top;\n",
              "    }\n",
              "\n",
              "    .dataframe thead th {\n",
              "        text-align: right;\n",
              "    }\n",
              "</style>\n",
              "<table border=\"1\" class=\"dataframe\">\n",
              "  <thead>\n",
              "    <tr style=\"text-align: right;\">\n",
              "      <th></th>\n",
              "      <th>tweet_id</th>\n",
              "      <th>entity</th>\n",
              "      <th>sentiment</th>\n",
              "      <th>tweet_content</th>\n",
              "    </tr>\n",
              "  </thead>\n",
              "  <tbody>\n",
              "    <tr>\n",
              "      <th>0</th>\n",
              "      <td>2401</td>\n",
              "      <td>Borderlands</td>\n",
              "      <td>Positive</td>\n",
              "      <td>im getting on borderlands and i will murder yo...</td>\n",
              "    </tr>\n",
              "    <tr>\n",
              "      <th>1</th>\n",
              "      <td>2401</td>\n",
              "      <td>Borderlands</td>\n",
              "      <td>Positive</td>\n",
              "      <td>I am coming to the borders and I will kill you...</td>\n",
              "    </tr>\n",
              "    <tr>\n",
              "      <th>2</th>\n",
              "      <td>2401</td>\n",
              "      <td>Borderlands</td>\n",
              "      <td>Positive</td>\n",
              "      <td>im getting on borderlands and i will kill you ...</td>\n",
              "    </tr>\n",
              "    <tr>\n",
              "      <th>3</th>\n",
              "      <td>2401</td>\n",
              "      <td>Borderlands</td>\n",
              "      <td>Positive</td>\n",
              "      <td>im coming on borderlands and i will murder you...</td>\n",
              "    </tr>\n",
              "    <tr>\n",
              "      <th>4</th>\n",
              "      <td>2401</td>\n",
              "      <td>Borderlands</td>\n",
              "      <td>Positive</td>\n",
              "      <td>im getting on borderlands 2 and i will murder ...</td>\n",
              "    </tr>\n",
              "  </tbody>\n",
              "</table>\n",
              "</div>"
            ],
            "text/plain": [
              "   tweet_id       entity sentiment  \\\n",
              "0      2401  Borderlands  Positive   \n",
              "1      2401  Borderlands  Positive   \n",
              "2      2401  Borderlands  Positive   \n",
              "3      2401  Borderlands  Positive   \n",
              "4      2401  Borderlands  Positive   \n",
              "\n",
              "                                       tweet_content  \n",
              "0  im getting on borderlands and i will murder yo...  \n",
              "1  I am coming to the borders and I will kill you...  \n",
              "2  im getting on borderlands and i will kill you ...  \n",
              "3  im coming on borderlands and i will murder you...  \n",
              "4  im getting on borderlands 2 and i will murder ...  "
            ]
          },
          "execution_count": 208,
          "metadata": {},
          "output_type": "execute_result"
        }
      ],
      "source": [
        "# Data Loading\n",
        "\n",
        "data=pd.read_csv('twitter_training.csv', sep=',', names=['tweet_id','entity','sentiment','tweet_content'])\n",
        "data.head()"
      ]
    },
    {
      "cell_type": "code",
      "execution_count": 209,
      "metadata": {},
      "outputs": [
        {
          "data": {
            "text/plain": [
              "(74682, 4)"
            ]
          },
          "execution_count": 209,
          "metadata": {},
          "output_type": "execute_result"
        }
      ],
      "source": [
        "data.shape"
      ]
    },
    {
      "cell_type": "code",
      "execution_count": 210,
      "metadata": {},
      "outputs": [],
      "source": [
        "data_eda = data.copy()"
      ]
    },
    {
      "cell_type": "code",
      "execution_count": 211,
      "metadata": {},
      "outputs": [
        {
          "data": {
            "text/plain": [
              "tweet_id           0\n",
              "entity             0\n",
              "sentiment          0\n",
              "tweet_content    686\n",
              "dtype: int64"
            ]
          },
          "execution_count": 211,
          "metadata": {},
          "output_type": "execute_result"
        }
      ],
      "source": [
        "data_eda.isnull().sum()"
      ]
    },
    {
      "cell_type": "code",
      "execution_count": 212,
      "metadata": {},
      "outputs": [
        {
          "data": {
            "text/plain": [
              "array(['Borderlands', 'CallOfDutyBlackopsColdWar', 'Amazon', 'Overwatch',\n",
              "       'Xbox(Xseries)', 'NBA2K', 'Dota2', 'PlayStation5(PS5)',\n",
              "       'WorldOfCraft', 'CS-GO', 'Google', 'AssassinsCreed', 'ApexLegends',\n",
              "       'LeagueOfLegends', 'Fortnite', 'Microsoft', 'Hearthstone',\n",
              "       'Battlefield', 'PlayerUnknownsBattlegrounds(PUBG)', 'Verizon',\n",
              "       'HomeDepot', 'FIFA', 'RedDeadRedemption(RDR)', 'CallOfDuty',\n",
              "       'TomClancysRainbowSix', 'Facebook', 'GrandTheftAuto(GTA)',\n",
              "       'MaddenNFL', 'johnson&johnson', 'Cyberpunk2077',\n",
              "       'TomClancysGhostRecon', 'Nvidia'], dtype=object)"
            ]
          },
          "execution_count": 212,
          "metadata": {},
          "output_type": "execute_result"
        }
      ],
      "source": [
        "data_eda.entity.unique()"
      ]
    },
    {
      "cell_type": "code",
      "execution_count": 213,
      "metadata": {},
      "outputs": [],
      "source": [
        "nvidia_tweet = data.loc[data['entity'] == 'Nvidia']"
      ]
    },
    {
      "cell_type": "code",
      "execution_count": 265,
      "metadata": {},
      "outputs": [],
      "source": [
        "nvidia_tweet.to_csv('nvidia_tweets.csv')"
      ]
    },
    {
      "cell_type": "markdown",
      "metadata": {},
      "source": [
        "# EDA"
      ]
    },
    {
      "cell_type": "code",
      "execution_count": 255,
      "metadata": {},
      "outputs": [
        {
          "data": {
            "text/plain": [
              "([<matplotlib.patches.Wedge at 0x1af48a2b9a0>,\n",
              "  <matplotlib.patches.Wedge at 0x1af48a2b8b0>,\n",
              "  <matplotlib.patches.Wedge at 0x1af48a3a6d0>,\n",
              "  <matplotlib.patches.Wedge at 0x1af48a3ad60>],\n",
              " [Text(-1.0299688055345073, 0.38621789138492846, 'Negative'),\n",
              "  Text(0.3979694160253483, -1.0254854186717837, 'Positive'),\n",
              "  Text(0.9041127658094765, 0.6265621331522827, 'Neutral'),\n",
              "  Text(0.1348712209498326, 1.091700395602888, 'Irrelevant')],\n",
              " [Text(-0.5618011666551858, 0.21066430439177916, '38.6%'),\n",
              "  Text(0.21707422692291722, -0.559355682911882, '34.6%'),\n",
              "  Text(0.4931524177142599, 0.3417611635376087, '22.9%'),\n",
              "  Text(0.0735661205180905, 0.5954729430561205, '3.9%')])"
            ]
          },
          "execution_count": 255,
          "metadata": {},
          "output_type": "execute_result"
        },
        {
          "data": {
            "image/png": "[encoded data removed]",
            "text/plain": [
              "<Figure size 640x480 with 1 Axes>"
            ]
          },
          "metadata": {},
          "output_type": "display_data"
        }
      ],
      "source": [
        "plt.pie(nvidia_tweet.sentiment.value_counts()\n",
        ",labels=['Negative','Positive','Neutral','Irrelevant'],autopct='%1.1f%%',startangle=90)"
      ]
    },
    {
      "cell_type": "code",
      "execution_count": 215,
      "metadata": {},
      "outputs": [
        {
          "data": {
            "text/plain": [
              "Neutral       870\n",
              "Positive      816\n",
              "Negative      522\n",
              "Irrelevant     90\n",
              "Name: sentiment, dtype: int64"
            ]
          },
          "execution_count": 215,
          "metadata": {},
          "output_type": "execute_result"
        }
      ],
      "source": [
        "nvidia_tweet.sentiment.value_counts()"
      ]
    },
    {
      "cell_type": "markdown",
      "metadata": {},
      "source": [
        "Insights:\n",
        "\n",
        "There's more negative tweets about nvidia than positive tweets with 4% of difference"
      ]
    },
    {
      "cell_type": "markdown",
      "metadata": {
        "id": "qkaeQN8Mnq-o"
      },
      "source": [
        "# Feature Engineering"
      ]
    },
    {
      "cell_type": "markdown",
      "metadata": {},
      "source": [
        "## Handling Missing Value"
      ]
    },
    {
      "cell_type": "markdown",
      "metadata": {},
      "source": [
        "Checking missing value on data"
      ]
    },
    {
      "cell_type": "code",
      "execution_count": 216,
      "metadata": {},
      "outputs": [
        {
          "data": {
            "text/plain": [
              "tweet_id          0\n",
              "entity            0\n",
              "sentiment         0\n",
              "tweet_content    27\n",
              "dtype: int64"
            ]
          },
          "execution_count": 216,
          "metadata": {},
          "output_type": "execute_result"
        }
      ],
      "source": [
        "nvidia_tweet.isnull().sum()"
      ]
    },
    {
      "cell_type": "markdown",
      "metadata": {},
      "source": [
        "There's a small amount of missing value, so we can just drop the rows without worrying for data behavior to change"
      ]
    },
    {
      "cell_type": "code",
      "execution_count": 217,
      "metadata": {},
      "outputs": [
        {
          "name": "stderr",
          "output_type": "stream",
          "text": [
            "C:\\Users\\Lenovo\\AppData\\Local\\Temp\\ipykernel_10132\\176145617.py:1: SettingWithCopyWarning: \n",
            "A value is trying to be set on a copy of a slice from a DataFrame\n",
            "\n",
            "See the caveats in the documentation: https://pandas.pydata.org/pandas-docs/stable/user_guide/indexing.html#returning-a-view-versus-a-copy\n",
            "  nvidia_tweet.dropna(subset=['tweet_content'], inplace=True)\n"
          ]
        }
      ],
      "source": [
        "nvidia_tweet.dropna(subset=['tweet_content'], inplace=True)"
      ]
    },
    {
      "cell_type": "code",
      "execution_count": 218,
      "metadata": {},
      "outputs": [
        {
          "data": {
            "text/plain": [
              "tweet_id         0\n",
              "entity           0\n",
              "sentiment        0\n",
              "tweet_content    0\n",
              "dtype: int64"
            ]
          },
          "execution_count": 218,
          "metadata": {},
          "output_type": "execute_result"
        }
      ],
      "source": [
        "nvidia_tweet.isnull().sum()"
      ]
    },
    {
      "cell_type": "code",
      "execution_count": 219,
      "metadata": {},
      "outputs": [
        {
          "data": {
            "text/plain": [
              "(2271, 4)"
            ]
          },
          "execution_count": 219,
          "metadata": {},
          "output_type": "execute_result"
        }
      ],
      "source": [
        "nvidia_tweet.shape"
      ]
    },
    {
      "cell_type": "code",
      "execution_count": 220,
      "metadata": {},
      "outputs": [
        {
          "name": "stdout",
          "output_type": "stream",
          "text": [
            "<class 'pandas.core.frame.DataFrame'>\n",
            "Int64Index: 2271 entries, 72384 to 74681\n",
            "Data columns (total 4 columns):\n",
            " #   Column         Non-Null Count  Dtype \n",
            "---  ------         --------------  ----- \n",
            " 0   tweet_id       2271 non-null   int64 \n",
            " 1   entity         2271 non-null   object\n",
            " 2   sentiment      2271 non-null   object\n",
            " 3   tweet_content  2271 non-null   object\n",
            "dtypes: int64(1), object(3)\n",
            "memory usage: 88.7+ KB\n"
          ]
        }
      ],
      "source": [
        "nvidia_tweet.info()"
      ]
    },
    {
      "cell_type": "markdown",
      "metadata": {},
      "source": [
        "## Handling Duplicates"
      ]
    },
    {
      "cell_type": "markdown",
      "metadata": {},
      "source": [
        "Checking Duplicate"
      ]
    },
    {
      "cell_type": "code",
      "execution_count": 221,
      "metadata": {},
      "outputs": [
        {
          "data": {
            "text/plain": [
              "73"
            ]
          },
          "execution_count": 221,
          "metadata": {},
          "output_type": "execute_result"
        }
      ],
      "source": [
        "nvidia_tweet.duplicated().sum()"
      ]
    },
    {
      "cell_type": "code",
      "execution_count": 222,
      "metadata": {},
      "outputs": [
        {
          "name": "stderr",
          "output_type": "stream",
          "text": [
            "C:\\Users\\Lenovo\\AppData\\Local\\Temp\\ipykernel_10132\\2087017006.py:1: SettingWithCopyWarning: \n",
            "A value is trying to be set on a copy of a slice from a DataFrame\n",
            "\n",
            "See the caveats in the documentation: https://pandas.pydata.org/pandas-docs/stable/user_guide/indexing.html#returning-a-view-versus-a-copy\n",
            "  nvidia_tweet.drop_duplicates(inplace=True)\n"
          ]
        }
      ],
      "source": [
        "nvidia_tweet.drop_duplicates(inplace=True)"
      ]
    },
    {
      "cell_type": "code",
      "execution_count": 223,
      "metadata": {},
      "outputs": [
        {
          "data": {
            "text/plain": [
              "(2198, 4)"
            ]
          },
          "execution_count": 223,
          "metadata": {},
          "output_type": "execute_result"
        }
      ],
      "source": [
        "nvidia_tweet.shape"
      ]
    },
    {
      "cell_type": "markdown",
      "metadata": {},
      "source": [
        "## Text Preprocessing"
      ]
    },
    {
      "cell_type": "code",
      "execution_count": 224,
      "metadata": {},
      "outputs": [
        {
          "data": {
            "text/html": [
              "<div>\n",
              "<style scoped>\n",
              "    .dataframe tbody tr th:only-of-type {\n",
              "        vertical-align: middle;\n",
              "    }\n",
              "\n",
              "    .dataframe tbody tr th {\n",
              "        vertical-align: top;\n",
              "    }\n",
              "\n",
              "    .dataframe thead th {\n",
              "        text-align: right;\n",
              "    }\n",
              "</style>\n",
              "<table border=\"1\" class=\"dataframe\">\n",
              "  <thead>\n",
              "    <tr style=\"text-align: right;\">\n",
              "      <th></th>\n",
              "      <th>tweet_id</th>\n",
              "      <th>entity</th>\n",
              "      <th>sentiment</th>\n",
              "      <th>tweet_content</th>\n",
              "    </tr>\n",
              "  </thead>\n",
              "  <tbody>\n",
              "    <tr>\n",
              "      <th>72384</th>\n",
              "      <td>8801</td>\n",
              "      <td>Nvidia</td>\n",
              "      <td>Neutral</td>\n",
              "      <td>Interesting NVIDIA=ARM. nvidianews.nvidia.com/...</td>\n",
              "    </tr>\n",
              "    <tr>\n",
              "      <th>72385</th>\n",
              "      <td>8801</td>\n",
              "      <td>Nvidia</td>\n",
              "      <td>Neutral</td>\n",
              "      <td>Interesting NVIDIA = ARM. nvidianews.nvidia.co...</td>\n",
              "    </tr>\n",
              "    <tr>\n",
              "      <th>72387</th>\n",
              "      <td>8801</td>\n",
              "      <td>Nvidia</td>\n",
              "      <td>Neutral</td>\n",
              "      <td>Interesting NVIDIA=ARM. news.nvidia.com/news/n...</td>\n",
              "    </tr>\n",
              "    <tr>\n",
              "      <th>72388</th>\n",
              "      <td>8801</td>\n",
              "      <td>Nvidia</td>\n",
              "      <td>Neutral</td>\n",
              "      <td>Information Interesting for NVIDIA = via ARM. ...</td>\n",
              "    </tr>\n",
              "    <tr>\n",
              "      <th>72389</th>\n",
              "      <td>8801</td>\n",
              "      <td>Nvidia</td>\n",
              "      <td>Neutral</td>\n",
              "      <td>Interesting NVIDIA=ARM. nvidianews.nvidia.com/...</td>\n",
              "    </tr>\n",
              "  </tbody>\n",
              "</table>\n",
              "</div>"
            ],
            "text/plain": [
              "       tweet_id  entity sentiment  \\\n",
              "72384      8801  Nvidia   Neutral   \n",
              "72385      8801  Nvidia   Neutral   \n",
              "72387      8801  Nvidia   Neutral   \n",
              "72388      8801  Nvidia   Neutral   \n",
              "72389      8801  Nvidia   Neutral   \n",
              "\n",
              "                                           tweet_content  \n",
              "72384  Interesting NVIDIA=ARM. nvidianews.nvidia.com/...  \n",
              "72385  Interesting NVIDIA = ARM. nvidianews.nvidia.co...  \n",
              "72387  Interesting NVIDIA=ARM. news.nvidia.com/news/n...  \n",
              "72388  Information Interesting for NVIDIA = via ARM. ...  \n",
              "72389  Interesting NVIDIA=ARM. nvidianews.nvidia.com/...  "
            ]
          },
          "execution_count": 224,
          "metadata": {},
          "output_type": "execute_result"
        }
      ],
      "source": [
        "nvidia_tweet.head()"
      ]
    },
    {
      "cell_type": "code",
      "execution_count": 225,
      "metadata": {},
      "outputs": [],
      "source": [
        "replace_list = {r\"i'm\": 'i am',\n",
        "                r\"'re\": ' are',\n",
        "                r\"let’s\": 'let us',\n",
        "                r\"'s\":  ' is',\n",
        "                r\"'ve\": ' have',\n",
        "                r\"can't\": 'can not',\n",
        "                r\"cannot\": 'can not',\n",
        "                r\"shan’t\": 'shall not',\n",
        "                r\"n't\": ' not',\n",
        "                r\"'d\": ' would',\n",
        "                r\"'ll\": ' will',\n",
        "                r\"'scuse\": 'excuse',\n",
        "                ',': ' ,',\n",
        "                '.': ' .',\n",
        "                '!': ' !',\n",
        "                '?': ' ?',\n",
        "                '\\s+': ' '}\n",
        "def clean_text(text):\n",
        "    text = text.lower()\n",
        "    for s in replace_list:\n",
        "        text = text.replace(s, replace_list[s])\n",
        "    text = ' '.join(text.split())\n",
        "    return text"
      ]
    },
    {
      "cell_type": "markdown",
      "metadata": {},
      "source": [
        "## Define X"
      ]
    },
    {
      "cell_type": "code",
      "execution_count": 226,
      "metadata": {},
      "outputs": [],
      "source": [
        "X = nvidia_tweet['tweet_content'].apply(lambda p: clean_text(p))"
      ]
    },
    {
      "cell_type": "code",
      "execution_count": 227,
      "metadata": {},
      "outputs": [
        {
          "data": {
            "text/plain": [
              "72384    interesting nvidia=arm . nvidianews .nvidia .c...\n",
              "72385    interesting nvidia = arm . nvidianews .nvidia ...\n",
              "72387    interesting nvidia=arm . news .nvidia .com/new...\n",
              "72388    information interesting for nvidia = via arm ....\n",
              "72389    interesting nvidia=arm . nvidianews .nvidia .c...\n",
              "Name: tweet_content, dtype: object"
            ]
          },
          "execution_count": 227,
          "metadata": {},
          "output_type": "execute_result"
        }
      ],
      "source": [
        "X.head()"
      ]
    },
    {
      "cell_type": "code",
      "execution_count": 228,
      "metadata": {},
      "outputs": [
        {
          "name": "stdout",
          "output_type": "stream",
          "text": [
            "max tweet_content len: 198\n"
          ]
        },
        {
          "data": {
            "image/png": "[encoded data removed]",
            "text/plain": [
              "<Figure size 1000x800 with 1 Axes>"
            ]
          },
          "metadata": {},
          "output_type": "display_data"
        }
      ],
      "source": [
        "tweet_content_len = X.apply(lambda p: len(p.split(' ')))\n",
        "max_tweet_content_len = tweet_content_len.max()\n",
        "print('max tweet_content len: {0}'.format(max_tweet_content_len))\n",
        "plt.figure(figsize = (10, 8))\n",
        "plt.hist(tweet_content_len, density = True)\n",
        "plt.xlabel('tweet_content len')\n",
        "plt.ylabel('probability')\n",
        "plt.grid()"
      ]
    },
    {
      "cell_type": "code",
      "execution_count": 229,
      "metadata": {},
      "outputs": [],
      "source": [
        "REPLACE_WITH_SPACE = re.compile(\"(@)\")\n",
        "SPACE = \" \"\n",
        "english_stop_words = stopwords.words('english')\n",
        "\n",
        "def reviews(reviews):  \n",
        "    reviews = [REPLACE_WITH_SPACE.sub(SPACE, line.lower()) for line in reviews]\n",
        "    \n",
        "    return reviews\n",
        "\n",
        "def remove_stop_words(corpus):\n",
        "    removed_stop_words = []\n",
        "    for review in corpus:\n",
        "        removed_stop_words.append(\n",
        "            ' '.join([word for word in review.split()  if word not in english_stop_words]))\n",
        "    return removed_stop_words\n",
        "\n",
        "def get_stemmed_text(corpus):\n",
        "    stemmer = PorterStemmer()\n",
        "\n",
        "    return [' '.join([stemmer.stem(word) for word in review.split()]) for review in corpus]"
      ]
    },
    {
      "cell_type": "markdown",
      "metadata": {},
      "source": [
        "## Define Y"
      ]
    },
    {
      "cell_type": "code",
      "execution_count": 230,
      "metadata": {},
      "outputs": [],
      "source": [
        "y = nvidia_tweet['sentiment']"
      ]
    },
    {
      "cell_type": "code",
      "execution_count": 231,
      "metadata": {},
      "outputs": [],
      "source": [
        "reviewtweet = reviews(X)\n",
        "no_stop_words_tweet = remove_stop_words(reviewtweet)\n",
        "stemmed_reviews_tweet = get_stemmed_text(no_stop_words_tweet)"
      ]
    },
    {
      "cell_type": "markdown",
      "metadata": {},
      "source": [
        "Checking text preprocessing result"
      ]
    },
    {
      "cell_type": "code",
      "execution_count": 232,
      "metadata": {},
      "outputs": [
        {
          "data": {
            "text/plain": [
              "'nvidia alpha rtx 3080 pro derail websit glitch , error , lack suppli anith .com/nvidia-geforce…'"
            ]
          },
          "execution_count": 232,
          "metadata": {},
          "output_type": "execute_result"
        }
      ],
      "source": [
        "stemmed_reviews_tweet[20]"
      ]
    },
    {
      "cell_type": "markdown",
      "metadata": {},
      "source": [
        "## Encoding"
      ]
    },
    {
      "cell_type": "code",
      "execution_count": 233,
      "metadata": {},
      "outputs": [],
      "source": [
        "max_words = 8000\n",
        "\n",
        "\n",
        "tokenizer = Tokenizer(\n",
        "    num_words = max_words,\n",
        "    filters = '\"#$%&()*+-/:;<=>@[\\]^_`{|}~'\n",
        ")\n",
        "tokenizer.fit_on_texts(stemmed_reviews_tweet)\n",
        "X = tokenizer.texts_to_sequences(stemmed_reviews_tweet)\n",
        "X = pad_sequences(X, maxlen = 200)"
      ]
    },
    {
      "cell_type": "code",
      "execution_count": 234,
      "metadata": {},
      "outputs": [],
      "source": [
        "label_tokenizer = Tokenizer()\n",
        "label_tokenizer.fit_on_texts(y)\n",
        "\n",
        "y = np.array(label_tokenizer.texts_to_sequences(y))"
      ]
    },
    {
      "cell_type": "markdown",
      "metadata": {
        "id": "fK1vpzYinu0f"
      },
      "source": [
        "## Splitting between Train-Set, Val-Set, and Test-Set"
      ]
    },
    {
      "cell_type": "code",
      "execution_count": 235,
      "metadata": {
        "id": "ljD7hbEjn0Af"
      },
      "outputs": [],
      "source": [
        "# # Splitting between `X` and `y`\n",
        "\n",
        "# X = data.drop('churn_risk_score', axis=1)\n",
        "# y = data['churn_risk_score']"
      ]
    },
    {
      "cell_type": "code",
      "execution_count": 236,
      "metadata": {
        "colab": {
          "base_uri": "https://localhost:8080/"
        },
        "id": "y-R3NClgomt4",
        "outputId": "e67cf197-bf84-492e-faf2-e838624b445a"
      },
      "outputs": [
        {
          "name": "stdout",
          "output_type": "stream",
          "text": [
            "Train Size :  (1758, 200)\n",
            "Test Size :  (440, 200)\n"
          ]
        }
      ],
      "source": [
        "# Splitting between Train-Set and Test-Set\n",
        "X_train, X_test, y_train, y_test = train_test_split(X, y, train_size = 0.8)\n",
        "\n",
        "print('Train Size : ', X_train.shape)\n",
        "print('Test Size : ', X_test.shape)"
      ]
    },
    {
      "cell_type": "markdown",
      "metadata": {
        "id": "OB1AXXnPuYkQ"
      },
      "source": [
        "# Model Definition"
      ]
    },
    {
      "cell_type": "code",
      "execution_count": 237,
      "metadata": {
        "id": "lxAIFi1IuXzP"
      },
      "outputs": [],
      "source": [
        "model_lstm = Sequential()\n",
        "model_lstm.add(Embedding(input_dim = max_words, output_dim = 128, input_length = 200))\n",
        "model_lstm.add(SpatialDropout1D(0.3))\n",
        "model_lstm.add(LSTM(128, dropout = 0.3, recurrent_dropout = 0.3))\n",
        "model_lstm.add(Dense(128, activation = 'relu'))\n",
        "model_lstm.add(Dropout(0.3))\n",
        "model_lstm.add(Dense(5, activation = 'softmax'))\n",
        "model_lstm.compile(\n",
        "    loss='sparse_categorical_crossentropy',\n",
        "    optimizer='Adam',\n",
        "    metrics=['accuracy']\n",
        ")"
      ]
    },
    {
      "cell_type": "code",
      "execution_count": 238,
      "metadata": {
        "colab": {
          "base_uri": "https://localhost:8080/",
          "height": 422
        },
        "id": "WJHVZpyrzpxE",
        "outputId": "41e33ec9-e31a-46fb-afdd-a3459db8338a"
      },
      "outputs": [
        {
          "data": {
            "image/png": "[encoded data removed]",
            "text/plain": [
              "<IPython.core.display.Image object>"
            ]
          },
          "execution_count": 238,
          "metadata": {},
          "output_type": "execute_result"
        }
      ],
      "source": [
        "# Plot Layers\n",
        "\n",
        "tf.keras.utils.plot_model(model_lstm, show_shapes=True)"
      ]
    },
    {
      "cell_type": "markdown",
      "metadata": {
        "id": "kECwg1Bdz28D"
      },
      "source": [
        "##  Model Training"
      ]
    },
    {
      "cell_type": "code",
      "execution_count": 239,
      "metadata": {
        "colab": {
          "base_uri": "https://localhost:8080/"
        },
        "id": "BtBUgQGlz-WW",
        "outputId": "56f2f892-780e-4f74-90c3-4f2d9f39a09c"
      },
      "outputs": [
        {
          "name": "stdout",
          "output_type": "stream",
          "text": [
            "Epoch 1/30\n",
            "4/4 [==============================] - 23s 2s/step - loss: 1.5972 - accuracy: 0.3413 - val_loss: 1.5564 - val_accuracy: 0.4159\n",
            "Epoch 2/30\n",
            "4/4 [==============================] - 8s 2s/step - loss: 1.5268 - accuracy: 0.4164 - val_loss: 1.3761 - val_accuracy: 0.4091\n",
            "Epoch 3/30\n",
            "4/4 [==============================] - 7s 2s/step - loss: 1.3280 - accuracy: 0.3965 - val_loss: 1.2105 - val_accuracy: 0.4659\n",
            "Epoch 4/30\n",
            "4/4 [==============================] - 7s 2s/step - loss: 1.2211 - accuracy: 0.4334 - val_loss: 1.1709 - val_accuracy: 0.4750\n",
            "Epoch 5/30\n",
            "4/4 [==============================] - 7s 2s/step - loss: 1.2003 - accuracy: 0.4482 - val_loss: 1.1260 - val_accuracy: 0.5318\n",
            "Epoch 6/30\n",
            "4/4 [==============================] - 7s 2s/step - loss: 1.1386 - accuracy: 0.5233 - val_loss: 1.0923 - val_accuracy: 0.5386\n",
            "Epoch 7/30\n",
            "4/4 [==============================] - 7s 2s/step - loss: 1.0815 - accuracy: 0.5506 - val_loss: 1.0510 - val_accuracy: 0.5477\n",
            "Epoch 8/30\n",
            "4/4 [==============================] - 7s 2s/step - loss: 1.0185 - accuracy: 0.5882 - val_loss: 0.9711 - val_accuracy: 0.6159\n",
            "Epoch 9/30\n",
            "4/4 [==============================] - 7s 2s/step - loss: 0.9097 - accuracy: 0.6405 - val_loss: 0.8632 - val_accuracy: 0.6455\n",
            "Epoch 10/30\n",
            "4/4 [==============================] - 7s 2s/step - loss: 0.8061 - accuracy: 0.6797 - val_loss: 0.7723 - val_accuracy: 0.6636\n",
            "Epoch 11/30\n",
            "4/4 [==============================] - 7s 2s/step - loss: 0.6879 - accuracy: 0.7213 - val_loss: 0.6473 - val_accuracy: 0.7795\n",
            "Epoch 12/30\n",
            "4/4 [==============================] - 7s 2s/step - loss: 0.5760 - accuracy: 0.7969 - val_loss: 0.5546 - val_accuracy: 0.8273\n",
            "Epoch 13/30\n",
            "4/4 [==============================] - 7s 2s/step - loss: 0.5002 - accuracy: 0.8373 - val_loss: 0.5023 - val_accuracy: 0.8455\n",
            "Epoch 14/30\n",
            "4/4 [==============================] - 7s 2s/step - loss: 0.4224 - accuracy: 0.8578 - val_loss: 0.4455 - val_accuracy: 0.8568\n",
            "Epoch 15/30\n",
            "4/4 [==============================] - 7s 2s/step - loss: 0.3519 - accuracy: 0.8845 - val_loss: 0.3839 - val_accuracy: 0.8727\n",
            "Epoch 16/30\n",
            "4/4 [==============================] - 7s 2s/step - loss: 0.2986 - accuracy: 0.9022 - val_loss: 0.3497 - val_accuracy: 0.8659\n",
            "Epoch 17/30\n",
            "4/4 [==============================] - 7s 2s/step - loss: 0.2661 - accuracy: 0.9022 - val_loss: 0.2952 - val_accuracy: 0.8864\n",
            "Epoch 18/30\n",
            "4/4 [==============================] - 7s 2s/step - loss: 0.2102 - accuracy: 0.9175 - val_loss: 0.2612 - val_accuracy: 0.8977\n",
            "Epoch 19/30\n",
            "4/4 [==============================] - 7s 2s/step - loss: 0.1728 - accuracy: 0.9369 - val_loss: 0.2380 - val_accuracy: 0.9182\n",
            "Epoch 20/30\n",
            "4/4 [==============================] - 7s 2s/step - loss: 0.1474 - accuracy: 0.9511 - val_loss: 0.2360 - val_accuracy: 0.9182\n",
            "Epoch 21/30\n",
            "4/4 [==============================] - 7s 2s/step - loss: 0.1413 - accuracy: 0.9539 - val_loss: 0.2094 - val_accuracy: 0.9295\n",
            "Epoch 22/30\n",
            "4/4 [==============================] - 7s 2s/step - loss: 0.1107 - accuracy: 0.9681 - val_loss: 0.2040 - val_accuracy: 0.9341\n",
            "Epoch 23/30\n",
            "4/4 [==============================] - 7s 2s/step - loss: 0.1104 - accuracy: 0.9664 - val_loss: 0.1882 - val_accuracy: 0.9341\n",
            "Epoch 24/30\n",
            "4/4 [==============================] - 7s 2s/step - loss: 0.0818 - accuracy: 0.9790 - val_loss: 0.2043 - val_accuracy: 0.9386\n",
            "Epoch 25/30\n",
            "4/4 [==============================] - 7s 2s/step - loss: 0.0700 - accuracy: 0.9778 - val_loss: 0.1788 - val_accuracy: 0.9295\n",
            "Epoch 26/30\n",
            "4/4 [==============================] - 7s 2s/step - loss: 0.0628 - accuracy: 0.9795 - val_loss: 0.1831 - val_accuracy: 0.9386\n",
            "Epoch 27/30\n",
            "4/4 [==============================] - 7s 2s/step - loss: 0.0631 - accuracy: 0.9784 - val_loss: 0.1720 - val_accuracy: 0.9318\n",
            "Epoch 28/30\n",
            "4/4 [==============================] - 7s 2s/step - loss: 0.0567 - accuracy: 0.9801 - val_loss: 0.1988 - val_accuracy: 0.9364\n",
            "Epoch 29/30\n",
            "4/4 [==============================] - 7s 2s/step - loss: 0.0574 - accuracy: 0.9801 - val_loss: 0.2518 - val_accuracy: 0.9159\n",
            "Epoch 30/30\n",
            "4/4 [==============================] - 7s 2s/step - loss: 0.0557 - accuracy: 0.9812 - val_loss: 0.1711 - val_accuracy: 0.9409\n"
          ]
        }
      ],
      "source": [
        "# Train the Model\n",
        "\n",
        "history = model_lstm.fit(\n",
        "        X_train,\n",
        "        y_train,\n",
        "        validation_data=(X_test,y_test) , \n",
        "        epochs = 30,\n",
        "        batch_size = 512\n",
        ")"
      ]
    },
    {
      "cell_type": "markdown",
      "metadata": {},
      "source": [
        "## Model Improvement"
      ]
    },
    {
      "cell_type": "code",
      "execution_count": 240,
      "metadata": {},
      "outputs": [
        {
          "name": "stdout",
          "output_type": "stream",
          "text": [
            "Epoch 1/50\n",
            "4/4 [==============================] - 8s 2s/step - loss: 0.0472 - accuracy: 0.9818 - val_loss: 0.1683 - val_accuracy: 0.9386\n",
            "Epoch 2/50\n",
            "4/4 [==============================] - 7s 2s/step - loss: 0.0486 - accuracy: 0.9829 - val_loss: 0.1505 - val_accuracy: 0.9409\n",
            "Epoch 3/50\n",
            "4/4 [==============================] - 7s 2s/step - loss: 0.0502 - accuracy: 0.9784 - val_loss: 0.1670 - val_accuracy: 0.9432\n",
            "Epoch 4/50\n",
            "4/4 [==============================] - 8s 2s/step - loss: 0.0426 - accuracy: 0.9841 - val_loss: 0.1728 - val_accuracy: 0.9386\n",
            "Epoch 5/50\n",
            "4/4 [==============================] - 8s 2s/step - loss: 0.0447 - accuracy: 0.9841 - val_loss: 0.1574 - val_accuracy: 0.9364\n",
            "Epoch 6/50\n",
            "4/4 [==============================] - 9s 2s/step - loss: 0.0457 - accuracy: 0.9824 - val_loss: 0.1515 - val_accuracy: 0.9386\n",
            "Epoch 7/50\n",
            "4/4 [==============================] - 11s 2s/step - loss: 0.0397 - accuracy: 0.9852 - val_loss: 0.1451 - val_accuracy: 0.9386\n",
            "Epoch 8/50\n",
            "4/4 [==============================] - 8s 2s/step - loss: 0.0409 - accuracy: 0.9835 - val_loss: 0.1457 - val_accuracy: 0.9455\n",
            "Epoch 9/50\n",
            "4/4 [==============================] - 7s 2s/step - loss: 0.0384 - accuracy: 0.9846 - val_loss: 0.1540 - val_accuracy: 0.9341\n",
            "Epoch 10/50\n",
            "4/4 [==============================] - 8s 2s/step - loss: 0.0394 - accuracy: 0.9824 - val_loss: 0.1532 - val_accuracy: 0.9364\n",
            "Epoch 11/50\n",
            "4/4 [==============================] - 7s 2s/step - loss: 0.0390 - accuracy: 0.9841 - val_loss: 0.1570 - val_accuracy: 0.9386\n",
            "Epoch 12/50\n",
            "4/4 [==============================] - 9s 2s/step - loss: 0.0388 - accuracy: 0.9829 - val_loss: 0.1606 - val_accuracy: 0.9364\n",
            "Epoch 13/50\n",
            "4/4 [==============================] - 9s 2s/step - loss: 0.0394 - accuracy: 0.9824 - val_loss: 0.1584 - val_accuracy: 0.9364\n",
            "Epoch 14/50\n",
            "4/4 [==============================] - 10s 2s/step - loss: 0.0370 - accuracy: 0.9858 - val_loss: 0.1824 - val_accuracy: 0.9409\n",
            "Epoch 15/50\n",
            "4/4 [==============================] - 9s 2s/step - loss: 0.0397 - accuracy: 0.9852 - val_loss: 0.1976 - val_accuracy: 0.9364\n",
            "Epoch 16/50\n",
            "4/4 [==============================] - 8s 2s/step - loss: 0.0384 - accuracy: 0.9858 - val_loss: 0.1996 - val_accuracy: 0.9295\n",
            "Epoch 17/50\n",
            "4/4 [==============================] - 7s 2s/step - loss: 0.0395 - accuracy: 0.9841 - val_loss: 0.1924 - val_accuracy: 0.9295\n",
            "Epoch 18/50\n",
            "4/4 [==============================] - 7s 2s/step - loss: 0.0387 - accuracy: 0.9846 - val_loss: 0.1432 - val_accuracy: 0.9409\n",
            "Epoch 19/50\n",
            "4/4 [==============================] - 7s 2s/step - loss: 0.0357 - accuracy: 0.9863 - val_loss: 0.1460 - val_accuracy: 0.9432\n",
            "Epoch 20/50\n",
            "4/4 [==============================] - 7s 2s/step - loss: 0.0376 - accuracy: 0.9841 - val_loss: 0.1471 - val_accuracy: 0.9432\n",
            "Epoch 21/50\n",
            "4/4 [==============================] - 7s 2s/step - loss: 0.0398 - accuracy: 0.9807 - val_loss: 0.1820 - val_accuracy: 0.9341\n",
            "Epoch 22/50\n",
            "4/4 [==============================] - 7s 2s/step - loss: 0.0382 - accuracy: 0.9846 - val_loss: 0.2085 - val_accuracy: 0.9341\n",
            "Epoch 23/50\n",
            "4/4 [==============================] - 7s 2s/step - loss: 0.0441 - accuracy: 0.9818 - val_loss: 0.2430 - val_accuracy: 0.9227\n",
            "Epoch 24/50\n",
            "4/4 [==============================] - 8s 2s/step - loss: 0.0365 - accuracy: 0.9829 - val_loss: 0.1767 - val_accuracy: 0.9364\n",
            "Epoch 25/50\n",
            "4/4 [==============================] - 8s 2s/step - loss: 0.0374 - accuracy: 0.9846 - val_loss: 0.1725 - val_accuracy: 0.9364\n",
            "Epoch 26/50\n",
            "4/4 [==============================] - 7s 2s/step - loss: 0.0397 - accuracy: 0.9835 - val_loss: 0.1615 - val_accuracy: 0.9432\n",
            "Epoch 27/50\n",
            "4/4 [==============================] - 7s 2s/step - loss: 0.0357 - accuracy: 0.9835 - val_loss: 0.1471 - val_accuracy: 0.9477\n",
            "Epoch 28/50\n",
            "4/4 [==============================] - 7s 2s/step - loss: 0.0333 - accuracy: 0.9846 - val_loss: 0.1443 - val_accuracy: 0.9523\n",
            "Epoch 29/50\n",
            "4/4 [==============================] - 7s 2s/step - loss: 0.0345 - accuracy: 0.9863 - val_loss: 0.1440 - val_accuracy: 0.9500\n",
            "Epoch 30/50\n",
            "4/4 [==============================] - 7s 2s/step - loss: 0.0344 - accuracy: 0.9852 - val_loss: 0.1491 - val_accuracy: 0.9477\n",
            "Epoch 31/50\n",
            "4/4 [==============================] - 7s 2s/step - loss: 0.0383 - accuracy: 0.9835 - val_loss: 0.1549 - val_accuracy: 0.9432\n",
            "Epoch 32/50\n",
            "4/4 [==============================] - 7s 2s/step - loss: 0.0329 - accuracy: 0.9858 - val_loss: 0.1540 - val_accuracy: 0.9432\n",
            "Epoch 33/50\n",
            "4/4 [==============================] - 8s 2s/step - loss: 0.0345 - accuracy: 0.9835 - val_loss: 0.1565 - val_accuracy: 0.9432\n",
            "Epoch 34/50\n",
            "4/4 [==============================] - 8s 2s/step - loss: 0.0321 - accuracy: 0.9863 - val_loss: 0.1562 - val_accuracy: 0.9432\n",
            "Epoch 35/50\n",
            "4/4 [==============================] - 7s 2s/step - loss: 0.0300 - accuracy: 0.9863 - val_loss: 0.1524 - val_accuracy: 0.9455\n",
            "Epoch 36/50\n",
            "4/4 [==============================] - 8s 2s/step - loss: 0.0377 - accuracy: 0.9824 - val_loss: 0.1517 - val_accuracy: 0.9455\n",
            "Epoch 37/50\n",
            "4/4 [==============================] - 7s 2s/step - loss: 0.0335 - accuracy: 0.9841 - val_loss: 0.1497 - val_accuracy: 0.9477\n",
            "Epoch 38/50\n",
            "4/4 [==============================] - 7s 2s/step - loss: 0.0348 - accuracy: 0.9846 - val_loss: 0.1561 - val_accuracy: 0.9455\n",
            "Epoch 39/50\n",
            "4/4 [==============================] - 7s 2s/step - loss: 0.0350 - accuracy: 0.9852 - val_loss: 0.1580 - val_accuracy: 0.9455\n",
            "Epoch 40/50\n",
            "4/4 [==============================] - 7s 2s/step - loss: 0.0343 - accuracy: 0.9858 - val_loss: 0.1611 - val_accuracy: 0.9455\n",
            "Epoch 41/50\n",
            "4/4 [==============================] - 7s 2s/step - loss: 0.0287 - accuracy: 0.9892 - val_loss: 0.1592 - val_accuracy: 0.9455\n",
            "Epoch 42/50\n",
            "4/4 [==============================] - 7s 2s/step - loss: 0.0319 - accuracy: 0.9829 - val_loss: 0.1588 - val_accuracy: 0.9432\n",
            "Epoch 43/50\n",
            "4/4 [==============================] - 7s 2s/step - loss: 0.0324 - accuracy: 0.9852 - val_loss: 0.1608 - val_accuracy: 0.9455\n",
            "Epoch 44/50\n",
            "4/4 [==============================] - 7s 2s/step - loss: 0.0309 - accuracy: 0.9875 - val_loss: 0.1642 - val_accuracy: 0.9432\n",
            "Epoch 45/50\n",
            "4/4 [==============================] - 7s 2s/step - loss: 0.0352 - accuracy: 0.9841 - val_loss: 0.1668 - val_accuracy: 0.9409\n",
            "Epoch 46/50\n",
            "4/4 [==============================] - 8s 2s/step - loss: 0.0334 - accuracy: 0.9852 - val_loss: 0.1669 - val_accuracy: 0.9409\n",
            "Epoch 47/50\n",
            "4/4 [==============================] - 7s 2s/step - loss: 0.0347 - accuracy: 0.9829 - val_loss: 0.1572 - val_accuracy: 0.9432\n",
            "Epoch 48/50\n",
            "4/4 [==============================] - 7s 2s/step - loss: 0.0322 - accuracy: 0.9852 - val_loss: 0.1518 - val_accuracy: 0.9477\n",
            "Epoch 49/50\n",
            "4/4 [==============================] - 8s 2s/step - loss: 0.0343 - accuracy: 0.9846 - val_loss: 0.1561 - val_accuracy: 0.9455\n",
            "Epoch 50/50\n",
            "4/4 [==============================] - 7s 2s/step - loss: 0.0322 - accuracy: 0.9841 - val_loss: 0.1593 - val_accuracy: 0.9432\n"
          ]
        }
      ],
      "source": [
        "history2 = model_lstm.fit(\n",
        "        X_train,\n",
        "        y_train,\n",
        "        validation_data=(X_test,y_test) , \n",
        "        epochs = 50,\n",
        "        batch_size = 512\n",
        ")"
      ]
    },
    {
      "cell_type": "markdown",
      "metadata": {
        "id": "IwbW5q5B3DMO"
      },
      "source": [
        "## Model Evaluation"
      ]
    },
    {
      "cell_type": "code",
      "execution_count": 241,
      "metadata": {
        "colab": {
          "base_uri": "https://localhost:8080/",
          "height": 677
        },
        "id": "JGENDqVu3HG4",
        "outputId": "56443163-9785-44b0-886d-19dbbaaa0a65"
      },
      "outputs": [
        {
          "data": {
            "text/html": [
              "<div>\n",
              "<style scoped>\n",
              "    .dataframe tbody tr th:only-of-type {\n",
              "        vertical-align: middle;\n",
              "    }\n",
              "\n",
              "    .dataframe tbody tr th {\n",
              "        vertical-align: top;\n",
              "    }\n",
              "\n",
              "    .dataframe thead th {\n",
              "        text-align: right;\n",
              "    }\n",
              "</style>\n",
              "<table border=\"1\" class=\"dataframe\">\n",
              "  <thead>\n",
              "    <tr style=\"text-align: right;\">\n",
              "      <th></th>\n",
              "      <th>loss</th>\n",
              "      <th>accuracy</th>\n",
              "      <th>val_loss</th>\n",
              "      <th>val_accuracy</th>\n",
              "    </tr>\n",
              "  </thead>\n",
              "  <tbody>\n",
              "    <tr>\n",
              "      <th>0</th>\n",
              "      <td>1.597212</td>\n",
              "      <td>0.341297</td>\n",
              "      <td>1.556409</td>\n",
              "      <td>0.415909</td>\n",
              "    </tr>\n",
              "    <tr>\n",
              "      <th>1</th>\n",
              "      <td>1.526756</td>\n",
              "      <td>0.416382</td>\n",
              "      <td>1.376074</td>\n",
              "      <td>0.409091</td>\n",
              "    </tr>\n",
              "    <tr>\n",
              "      <th>2</th>\n",
              "      <td>1.327971</td>\n",
              "      <td>0.396473</td>\n",
              "      <td>1.210521</td>\n",
              "      <td>0.465909</td>\n",
              "    </tr>\n",
              "    <tr>\n",
              "      <th>3</th>\n",
              "      <td>1.221118</td>\n",
              "      <td>0.433447</td>\n",
              "      <td>1.170861</td>\n",
              "      <td>0.475000</td>\n",
              "    </tr>\n",
              "    <tr>\n",
              "      <th>4</th>\n",
              "      <td>1.200332</td>\n",
              "      <td>0.448237</td>\n",
              "      <td>1.125995</td>\n",
              "      <td>0.531818</td>\n",
              "    </tr>\n",
              "    <tr>\n",
              "      <th>5</th>\n",
              "      <td>1.138622</td>\n",
              "      <td>0.523322</td>\n",
              "      <td>1.092287</td>\n",
              "      <td>0.538636</td>\n",
              "    </tr>\n",
              "    <tr>\n",
              "      <th>6</th>\n",
              "      <td>1.081451</td>\n",
              "      <td>0.550626</td>\n",
              "      <td>1.050996</td>\n",
              "      <td>0.547727</td>\n",
              "    </tr>\n",
              "    <tr>\n",
              "      <th>7</th>\n",
              "      <td>1.018545</td>\n",
              "      <td>0.588168</td>\n",
              "      <td>0.971074</td>\n",
              "      <td>0.615909</td>\n",
              "    </tr>\n",
              "    <tr>\n",
              "      <th>8</th>\n",
              "      <td>0.909686</td>\n",
              "      <td>0.640501</td>\n",
              "      <td>0.863232</td>\n",
              "      <td>0.645455</td>\n",
              "    </tr>\n",
              "    <tr>\n",
              "      <th>9</th>\n",
              "      <td>0.806075</td>\n",
              "      <td>0.679750</td>\n",
              "      <td>0.772308</td>\n",
              "      <td>0.663636</td>\n",
              "    </tr>\n",
              "    <tr>\n",
              "      <th>10</th>\n",
              "      <td>0.687851</td>\n",
              "      <td>0.721274</td>\n",
              "      <td>0.647348</td>\n",
              "      <td>0.779545</td>\n",
              "    </tr>\n",
              "    <tr>\n",
              "      <th>11</th>\n",
              "      <td>0.576004</td>\n",
              "      <td>0.796928</td>\n",
              "      <td>0.554641</td>\n",
              "      <td>0.827273</td>\n",
              "    </tr>\n",
              "    <tr>\n",
              "      <th>12</th>\n",
              "      <td>0.500211</td>\n",
              "      <td>0.837315</td>\n",
              "      <td>0.502259</td>\n",
              "      <td>0.845455</td>\n",
              "    </tr>\n",
              "    <tr>\n",
              "      <th>13</th>\n",
              "      <td>0.422443</td>\n",
              "      <td>0.857793</td>\n",
              "      <td>0.445481</td>\n",
              "      <td>0.856818</td>\n",
              "    </tr>\n",
              "    <tr>\n",
              "      <th>14</th>\n",
              "      <td>0.351940</td>\n",
              "      <td>0.884528</td>\n",
              "      <td>0.383916</td>\n",
              "      <td>0.872727</td>\n",
              "    </tr>\n",
              "    <tr>\n",
              "      <th>15</th>\n",
              "      <td>0.298583</td>\n",
              "      <td>0.902162</td>\n",
              "      <td>0.349690</td>\n",
              "      <td>0.865909</td>\n",
              "    </tr>\n",
              "    <tr>\n",
              "      <th>16</th>\n",
              "      <td>0.266114</td>\n",
              "      <td>0.902162</td>\n",
              "      <td>0.295178</td>\n",
              "      <td>0.886364</td>\n",
              "    </tr>\n",
              "    <tr>\n",
              "      <th>17</th>\n",
              "      <td>0.210248</td>\n",
              "      <td>0.917520</td>\n",
              "      <td>0.261230</td>\n",
              "      <td>0.897727</td>\n",
              "    </tr>\n",
              "    <tr>\n",
              "      <th>18</th>\n",
              "      <td>0.172824</td>\n",
              "      <td>0.936860</td>\n",
              "      <td>0.237990</td>\n",
              "      <td>0.918182</td>\n",
              "    </tr>\n",
              "    <tr>\n",
              "      <th>19</th>\n",
              "      <td>0.147371</td>\n",
              "      <td>0.951081</td>\n",
              "      <td>0.236003</td>\n",
              "      <td>0.918182</td>\n",
              "    </tr>\n",
              "    <tr>\n",
              "      <th>20</th>\n",
              "      <td>0.141299</td>\n",
              "      <td>0.953925</td>\n",
              "      <td>0.209405</td>\n",
              "      <td>0.929545</td>\n",
              "    </tr>\n",
              "    <tr>\n",
              "      <th>21</th>\n",
              "      <td>0.110717</td>\n",
              "      <td>0.968146</td>\n",
              "      <td>0.203980</td>\n",
              "      <td>0.934091</td>\n",
              "    </tr>\n",
              "    <tr>\n",
              "      <th>22</th>\n",
              "      <td>0.110376</td>\n",
              "      <td>0.966439</td>\n",
              "      <td>0.188153</td>\n",
              "      <td>0.934091</td>\n",
              "    </tr>\n",
              "    <tr>\n",
              "      <th>23</th>\n",
              "      <td>0.081840</td>\n",
              "      <td>0.978953</td>\n",
              "      <td>0.204250</td>\n",
              "      <td>0.938636</td>\n",
              "    </tr>\n",
              "    <tr>\n",
              "      <th>24</th>\n",
              "      <td>0.069955</td>\n",
              "      <td>0.977816</td>\n",
              "      <td>0.178793</td>\n",
              "      <td>0.929545</td>\n",
              "    </tr>\n",
              "    <tr>\n",
              "      <th>25</th>\n",
              "      <td>0.062800</td>\n",
              "      <td>0.979522</td>\n",
              "      <td>0.183147</td>\n",
              "      <td>0.938636</td>\n",
              "    </tr>\n",
              "    <tr>\n",
              "      <th>26</th>\n",
              "      <td>0.063070</td>\n",
              "      <td>0.978385</td>\n",
              "      <td>0.171958</td>\n",
              "      <td>0.931818</td>\n",
              "    </tr>\n",
              "    <tr>\n",
              "      <th>27</th>\n",
              "      <td>0.056683</td>\n",
              "      <td>0.980091</td>\n",
              "      <td>0.198844</td>\n",
              "      <td>0.936364</td>\n",
              "    </tr>\n",
              "    <tr>\n",
              "      <th>28</th>\n",
              "      <td>0.057436</td>\n",
              "      <td>0.980091</td>\n",
              "      <td>0.251838</td>\n",
              "      <td>0.915909</td>\n",
              "    </tr>\n",
              "    <tr>\n",
              "      <th>29</th>\n",
              "      <td>0.055723</td>\n",
              "      <td>0.981229</td>\n",
              "      <td>0.171083</td>\n",
              "      <td>0.940909</td>\n",
              "    </tr>\n",
              "  </tbody>\n",
              "</table>\n",
              "</div>"
            ],
            "text/plain": [
              "        loss  accuracy  val_loss  val_accuracy\n",
              "0   1.597212  0.341297  1.556409      0.415909\n",
              "1   1.526756  0.416382  1.376074      0.409091\n",
              "2   1.327971  0.396473  1.210521      0.465909\n",
              "3   1.221118  0.433447  1.170861      0.475000\n",
              "4   1.200332  0.448237  1.125995      0.531818\n",
              "5   1.138622  0.523322  1.092287      0.538636\n",
              "6   1.081451  0.550626  1.050996      0.547727\n",
              "7   1.018545  0.588168  0.971074      0.615909\n",
              "8   0.909686  0.640501  0.863232      0.645455\n",
              "9   0.806075  0.679750  0.772308      0.663636\n",
              "10  0.687851  0.721274  0.647348      0.779545\n",
              "11  0.576004  0.796928  0.554641      0.827273\n",
              "12  0.500211  0.837315  0.502259      0.845455\n",
              "13  0.422443  0.857793  0.445481      0.856818\n",
              "14  0.351940  0.884528  0.383916      0.872727\n",
              "15  0.298583  0.902162  0.349690      0.865909\n",
              "16  0.266114  0.902162  0.295178      0.886364\n",
              "17  0.210248  0.917520  0.261230      0.897727\n",
              "18  0.172824  0.936860  0.237990      0.918182\n",
              "19  0.147371  0.951081  0.236003      0.918182\n",
              "20  0.141299  0.953925  0.209405      0.929545\n",
              "21  0.110717  0.968146  0.203980      0.934091\n",
              "22  0.110376  0.966439  0.188153      0.934091\n",
              "23  0.081840  0.978953  0.204250      0.938636\n",
              "24  0.069955  0.977816  0.178793      0.929545\n",
              "25  0.062800  0.979522  0.183147      0.938636\n",
              "26  0.063070  0.978385  0.171958      0.931818\n",
              "27  0.056683  0.980091  0.198844      0.936364\n",
              "28  0.057436  0.980091  0.251838      0.915909\n",
              "29  0.055723  0.981229  0.171083      0.940909"
            ]
          },
          "execution_count": 241,
          "metadata": {},
          "output_type": "execute_result"
        }
      ],
      "source": [
        "# Create DataFrame\n",
        "\n",
        "history_df = pd.DataFrame(history.history)\n",
        "history_df"
      ]
    },
    {
      "cell_type": "code",
      "execution_count": 242,
      "metadata": {},
      "outputs": [
        {
          "data": {
            "text/html": [
              "<div>\n",
              "<style scoped>\n",
              "    .dataframe tbody tr th:only-of-type {\n",
              "        vertical-align: middle;\n",
              "    }\n",
              "\n",
              "    .dataframe tbody tr th {\n",
              "        vertical-align: top;\n",
              "    }\n",
              "\n",
              "    .dataframe thead th {\n",
              "        text-align: right;\n",
              "    }\n",
              "</style>\n",
              "<table border=\"1\" class=\"dataframe\">\n",
              "  <thead>\n",
              "    <tr style=\"text-align: right;\">\n",
              "      <th></th>\n",
              "      <th>loss</th>\n",
              "      <th>accuracy</th>\n",
              "      <th>val_loss</th>\n",
              "      <th>val_accuracy</th>\n",
              "    </tr>\n",
              "  </thead>\n",
              "  <tbody>\n",
              "    <tr>\n",
              "      <th>0</th>\n",
              "      <td>0.047234</td>\n",
              "      <td>0.981798</td>\n",
              "      <td>0.168349</td>\n",
              "      <td>0.938636</td>\n",
              "    </tr>\n",
              "    <tr>\n",
              "      <th>1</th>\n",
              "      <td>0.048575</td>\n",
              "      <td>0.982935</td>\n",
              "      <td>0.150505</td>\n",
              "      <td>0.940909</td>\n",
              "    </tr>\n",
              "    <tr>\n",
              "      <th>2</th>\n",
              "      <td>0.050202</td>\n",
              "      <td>0.978385</td>\n",
              "      <td>0.166976</td>\n",
              "      <td>0.943182</td>\n",
              "    </tr>\n",
              "    <tr>\n",
              "      <th>3</th>\n",
              "      <td>0.042556</td>\n",
              "      <td>0.984073</td>\n",
              "      <td>0.172759</td>\n",
              "      <td>0.938636</td>\n",
              "    </tr>\n",
              "    <tr>\n",
              "      <th>4</th>\n",
              "      <td>0.044739</td>\n",
              "      <td>0.984073</td>\n",
              "      <td>0.157384</td>\n",
              "      <td>0.936364</td>\n",
              "    </tr>\n",
              "    <tr>\n",
              "      <th>5</th>\n",
              "      <td>0.045688</td>\n",
              "      <td>0.982366</td>\n",
              "      <td>0.151503</td>\n",
              "      <td>0.938636</td>\n",
              "    </tr>\n",
              "    <tr>\n",
              "      <th>6</th>\n",
              "      <td>0.039712</td>\n",
              "      <td>0.985210</td>\n",
              "      <td>0.145102</td>\n",
              "      <td>0.938636</td>\n",
              "    </tr>\n",
              "    <tr>\n",
              "      <th>7</th>\n",
              "      <td>0.040888</td>\n",
              "      <td>0.983504</td>\n",
              "      <td>0.145736</td>\n",
              "      <td>0.945455</td>\n",
              "    </tr>\n",
              "    <tr>\n",
              "      <th>8</th>\n",
              "      <td>0.038364</td>\n",
              "      <td>0.984642</td>\n",
              "      <td>0.154021</td>\n",
              "      <td>0.934091</td>\n",
              "    </tr>\n",
              "    <tr>\n",
              "      <th>9</th>\n",
              "      <td>0.039449</td>\n",
              "      <td>0.982366</td>\n",
              "      <td>0.153160</td>\n",
              "      <td>0.936364</td>\n",
              "    </tr>\n",
              "    <tr>\n",
              "      <th>10</th>\n",
              "      <td>0.039038</td>\n",
              "      <td>0.984073</td>\n",
              "      <td>0.156953</td>\n",
              "      <td>0.938636</td>\n",
              "    </tr>\n",
              "    <tr>\n",
              "      <th>11</th>\n",
              "      <td>0.038819</td>\n",
              "      <td>0.982935</td>\n",
              "      <td>0.160647</td>\n",
              "      <td>0.936364</td>\n",
              "    </tr>\n",
              "    <tr>\n",
              "      <th>12</th>\n",
              "      <td>0.039394</td>\n",
              "      <td>0.982366</td>\n",
              "      <td>0.158425</td>\n",
              "      <td>0.936364</td>\n",
              "    </tr>\n",
              "    <tr>\n",
              "      <th>13</th>\n",
              "      <td>0.036978</td>\n",
              "      <td>0.985779</td>\n",
              "      <td>0.182448</td>\n",
              "      <td>0.940909</td>\n",
              "    </tr>\n",
              "    <tr>\n",
              "      <th>14</th>\n",
              "      <td>0.039694</td>\n",
              "      <td>0.985210</td>\n",
              "      <td>0.197566</td>\n",
              "      <td>0.936364</td>\n",
              "    </tr>\n",
              "    <tr>\n",
              "      <th>15</th>\n",
              "      <td>0.038357</td>\n",
              "      <td>0.985779</td>\n",
              "      <td>0.199593</td>\n",
              "      <td>0.929545</td>\n",
              "    </tr>\n",
              "    <tr>\n",
              "      <th>16</th>\n",
              "      <td>0.039466</td>\n",
              "      <td>0.984073</td>\n",
              "      <td>0.192409</td>\n",
              "      <td>0.929545</td>\n",
              "    </tr>\n",
              "    <tr>\n",
              "      <th>17</th>\n",
              "      <td>0.038687</td>\n",
              "      <td>0.984642</td>\n",
              "      <td>0.143153</td>\n",
              "      <td>0.940909</td>\n",
              "    </tr>\n",
              "    <tr>\n",
              "      <th>18</th>\n",
              "      <td>0.035660</td>\n",
              "      <td>0.986348</td>\n",
              "      <td>0.146035</td>\n",
              "      <td>0.943182</td>\n",
              "    </tr>\n",
              "    <tr>\n",
              "      <th>19</th>\n",
              "      <td>0.037593</td>\n",
              "      <td>0.984073</td>\n",
              "      <td>0.147126</td>\n",
              "      <td>0.943182</td>\n",
              "    </tr>\n",
              "    <tr>\n",
              "      <th>20</th>\n",
              "      <td>0.039825</td>\n",
              "      <td>0.980660</td>\n",
              "      <td>0.181981</td>\n",
              "      <td>0.934091</td>\n",
              "    </tr>\n",
              "    <tr>\n",
              "      <th>21</th>\n",
              "      <td>0.038203</td>\n",
              "      <td>0.984642</td>\n",
              "      <td>0.208500</td>\n",
              "      <td>0.934091</td>\n",
              "    </tr>\n",
              "    <tr>\n",
              "      <th>22</th>\n",
              "      <td>0.044077</td>\n",
              "      <td>0.981798</td>\n",
              "      <td>0.242991</td>\n",
              "      <td>0.922727</td>\n",
              "    </tr>\n",
              "    <tr>\n",
              "      <th>23</th>\n",
              "      <td>0.036536</td>\n",
              "      <td>0.982935</td>\n",
              "      <td>0.176683</td>\n",
              "      <td>0.936364</td>\n",
              "    </tr>\n",
              "    <tr>\n",
              "      <th>24</th>\n",
              "      <td>0.037434</td>\n",
              "      <td>0.984642</td>\n",
              "      <td>0.172459</td>\n",
              "      <td>0.936364</td>\n",
              "    </tr>\n",
              "    <tr>\n",
              "      <th>25</th>\n",
              "      <td>0.039732</td>\n",
              "      <td>0.983504</td>\n",
              "      <td>0.161508</td>\n",
              "      <td>0.943182</td>\n",
              "    </tr>\n",
              "    <tr>\n",
              "      <th>26</th>\n",
              "      <td>0.035687</td>\n",
              "      <td>0.983504</td>\n",
              "      <td>0.147098</td>\n",
              "      <td>0.947727</td>\n",
              "    </tr>\n",
              "    <tr>\n",
              "      <th>27</th>\n",
              "      <td>0.033317</td>\n",
              "      <td>0.984642</td>\n",
              "      <td>0.144264</td>\n",
              "      <td>0.952273</td>\n",
              "    </tr>\n",
              "    <tr>\n",
              "      <th>28</th>\n",
              "      <td>0.034527</td>\n",
              "      <td>0.986348</td>\n",
              "      <td>0.143970</td>\n",
              "      <td>0.950000</td>\n",
              "    </tr>\n",
              "    <tr>\n",
              "      <th>29</th>\n",
              "      <td>0.034373</td>\n",
              "      <td>0.985210</td>\n",
              "      <td>0.149104</td>\n",
              "      <td>0.947727</td>\n",
              "    </tr>\n",
              "    <tr>\n",
              "      <th>30</th>\n",
              "      <td>0.038263</td>\n",
              "      <td>0.983504</td>\n",
              "      <td>0.154885</td>\n",
              "      <td>0.943182</td>\n",
              "    </tr>\n",
              "    <tr>\n",
              "      <th>31</th>\n",
              "      <td>0.032931</td>\n",
              "      <td>0.985779</td>\n",
              "      <td>0.153991</td>\n",
              "      <td>0.943182</td>\n",
              "    </tr>\n",
              "    <tr>\n",
              "      <th>32</th>\n",
              "      <td>0.034481</td>\n",
              "      <td>0.983504</td>\n",
              "      <td>0.156516</td>\n",
              "      <td>0.943182</td>\n",
              "    </tr>\n",
              "    <tr>\n",
              "      <th>33</th>\n",
              "      <td>0.032078</td>\n",
              "      <td>0.986348</td>\n",
              "      <td>0.156225</td>\n",
              "      <td>0.943182</td>\n",
              "    </tr>\n",
              "    <tr>\n",
              "      <th>34</th>\n",
              "      <td>0.030029</td>\n",
              "      <td>0.986348</td>\n",
              "      <td>0.152394</td>\n",
              "      <td>0.945455</td>\n",
              "    </tr>\n",
              "    <tr>\n",
              "      <th>35</th>\n",
              "      <td>0.037651</td>\n",
              "      <td>0.982366</td>\n",
              "      <td>0.151657</td>\n",
              "      <td>0.945455</td>\n",
              "    </tr>\n",
              "    <tr>\n",
              "      <th>36</th>\n",
              "      <td>0.033485</td>\n",
              "      <td>0.984073</td>\n",
              "      <td>0.149651</td>\n",
              "      <td>0.947727</td>\n",
              "    </tr>\n",
              "    <tr>\n",
              "      <th>37</th>\n",
              "      <td>0.034823</td>\n",
              "      <td>0.984642</td>\n",
              "      <td>0.156149</td>\n",
              "      <td>0.945455</td>\n",
              "    </tr>\n",
              "    <tr>\n",
              "      <th>38</th>\n",
              "      <td>0.034967</td>\n",
              "      <td>0.985210</td>\n",
              "      <td>0.157993</td>\n",
              "      <td>0.945455</td>\n",
              "    </tr>\n",
              "    <tr>\n",
              "      <th>39</th>\n",
              "      <td>0.034255</td>\n",
              "      <td>0.985779</td>\n",
              "      <td>0.161054</td>\n",
              "      <td>0.945455</td>\n",
              "    </tr>\n",
              "    <tr>\n",
              "      <th>40</th>\n",
              "      <td>0.028721</td>\n",
              "      <td>0.989192</td>\n",
              "      <td>0.159184</td>\n",
              "      <td>0.945455</td>\n",
              "    </tr>\n",
              "    <tr>\n",
              "      <th>41</th>\n",
              "      <td>0.031945</td>\n",
              "      <td>0.982935</td>\n",
              "      <td>0.158757</td>\n",
              "      <td>0.943182</td>\n",
              "    </tr>\n",
              "    <tr>\n",
              "      <th>42</th>\n",
              "      <td>0.032445</td>\n",
              "      <td>0.985210</td>\n",
              "      <td>0.160809</td>\n",
              "      <td>0.945455</td>\n",
              "    </tr>\n",
              "    <tr>\n",
              "      <th>43</th>\n",
              "      <td>0.030897</td>\n",
              "      <td>0.987486</td>\n",
              "      <td>0.164201</td>\n",
              "      <td>0.943182</td>\n",
              "    </tr>\n",
              "    <tr>\n",
              "      <th>44</th>\n",
              "      <td>0.035194</td>\n",
              "      <td>0.984073</td>\n",
              "      <td>0.166836</td>\n",
              "      <td>0.940909</td>\n",
              "    </tr>\n",
              "    <tr>\n",
              "      <th>45</th>\n",
              "      <td>0.033430</td>\n",
              "      <td>0.985210</td>\n",
              "      <td>0.166891</td>\n",
              "      <td>0.940909</td>\n",
              "    </tr>\n",
              "    <tr>\n",
              "      <th>46</th>\n",
              "      <td>0.034700</td>\n",
              "      <td>0.982935</td>\n",
              "      <td>0.157198</td>\n",
              "      <td>0.943182</td>\n",
              "    </tr>\n",
              "    <tr>\n",
              "      <th>47</th>\n",
              "      <td>0.032177</td>\n",
              "      <td>0.985210</td>\n",
              "      <td>0.151836</td>\n",
              "      <td>0.947727</td>\n",
              "    </tr>\n",
              "    <tr>\n",
              "      <th>48</th>\n",
              "      <td>0.034295</td>\n",
              "      <td>0.984642</td>\n",
              "      <td>0.156094</td>\n",
              "      <td>0.945455</td>\n",
              "    </tr>\n",
              "    <tr>\n",
              "      <th>49</th>\n",
              "      <td>0.032192</td>\n",
              "      <td>0.984073</td>\n",
              "      <td>0.159281</td>\n",
              "      <td>0.943182</td>\n",
              "    </tr>\n",
              "  </tbody>\n",
              "</table>\n",
              "</div>"
            ],
            "text/plain": [
              "        loss  accuracy  val_loss  val_accuracy\n",
              "0   0.047234  0.981798  0.168349      0.938636\n",
              "1   0.048575  0.982935  0.150505      0.940909\n",
              "2   0.050202  0.978385  0.166976      0.943182\n",
              "3   0.042556  0.984073  0.172759      0.938636\n",
              "4   0.044739  0.984073  0.157384      0.936364\n",
              "5   0.045688  0.982366  0.151503      0.938636\n",
              "6   0.039712  0.985210  0.145102      0.938636\n",
              "7   0.040888  0.983504  0.145736      0.945455\n",
              "8   0.038364  0.984642  0.154021      0.934091\n",
              "9   0.039449  0.982366  0.153160      0.936364\n",
              "10  0.039038  0.984073  0.156953      0.938636\n",
              "11  0.038819  0.982935  0.160647      0.936364\n",
              "12  0.039394  0.982366  0.158425      0.936364\n",
              "13  0.036978  0.985779  0.182448      0.940909\n",
              "14  0.039694  0.985210  0.197566      0.936364\n",
              "15  0.038357  0.985779  0.199593      0.929545\n",
              "16  0.039466  0.984073  0.192409      0.929545\n",
              "17  0.038687  0.984642  0.143153      0.940909\n",
              "18  0.035660  0.986348  0.146035      0.943182\n",
              "19  0.037593  0.984073  0.147126      0.943182\n",
              "20  0.039825  0.980660  0.181981      0.934091\n",
              "21  0.038203  0.984642  0.208500      0.934091\n",
              "22  0.044077  0.981798  0.242991      0.922727\n",
              "23  0.036536  0.982935  0.176683      0.936364\n",
              "24  0.037434  0.984642  0.172459      0.936364\n",
              "25  0.039732  0.983504  0.161508      0.943182\n",
              "26  0.035687  0.983504  0.147098      0.947727\n",
              "27  0.033317  0.984642  0.144264      0.952273\n",
              "28  0.034527  0.986348  0.143970      0.950000\n",
              "29  0.034373  0.985210  0.149104      0.947727\n",
              "30  0.038263  0.983504  0.154885      0.943182\n",
              "31  0.032931  0.985779  0.153991      0.943182\n",
              "32  0.034481  0.983504  0.156516      0.943182\n",
              "33  0.032078  0.986348  0.156225      0.943182\n",
              "34  0.030029  0.986348  0.152394      0.945455\n",
              "35  0.037651  0.982366  0.151657      0.945455\n",
              "36  0.033485  0.984073  0.149651      0.947727\n",
              "37  0.034823  0.984642  0.156149      0.945455\n",
              "38  0.034967  0.985210  0.157993      0.945455\n",
              "39  0.034255  0.985779  0.161054      0.945455\n",
              "40  0.028721  0.989192  0.159184      0.945455\n",
              "41  0.031945  0.982935  0.158757      0.943182\n",
              "42  0.032445  0.985210  0.160809      0.945455\n",
              "43  0.030897  0.987486  0.164201      0.943182\n",
              "44  0.035194  0.984073  0.166836      0.940909\n",
              "45  0.033430  0.985210  0.166891      0.940909\n",
              "46  0.034700  0.982935  0.157198      0.943182\n",
              "47  0.032177  0.985210  0.151836      0.947727\n",
              "48  0.034295  0.984642  0.156094      0.945455\n",
              "49  0.032192  0.984073  0.159281      0.943182"
            ]
          },
          "execution_count": 242,
          "metadata": {},
          "output_type": "execute_result"
        }
      ],
      "source": [
        "# Create DataFrame from ANN Improvement\n",
        "\n",
        "history2_df = pd.DataFrame(history2.history)\n",
        "history2_df"
      ]
    },
    {
      "cell_type": "code",
      "execution_count": 243,
      "metadata": {
        "colab": {
          "base_uri": "https://localhost:8080/",
          "height": 862
        },
        "id": "lGkb2zDe357w",
        "outputId": "7e48b965-b4d8-4a1e-81b2-f9d113307234"
      },
      "outputs": [
        {
          "data": {
            "text/plain": [
              "<Axes: >"
            ]
          },
          "execution_count": 243,
          "metadata": {},
          "output_type": "execute_result"
        },
        {
          "data": {
            "image/png": "[encoded data removed]",
            "text/plain": [
              "<Figure size 640x480 with 1 Axes>"
            ]
          },
          "metadata": {},
          "output_type": "display_data"
        },
        {
          "data": {
            "image/png": "[encoded data removed]",
            "text/plain": [
              "<Figure size 640x480 with 1 Axes>"
            ]
          },
          "metadata": {},
          "output_type": "display_data"
        },
        {
          "data": {
            "image/png": "[encoded data removed]",
            "text/plain": [
              "<Figure size 640x480 with 1 Axes>"
            ]
          },
          "metadata": {},
          "output_type": "display_data"
        },
        {
          "data": {
            "image/png": "[encoded data removed]",
            "text/plain": [
              "<Figure size 640x480 with 1 Axes>"
            ]
          },
          "metadata": {},
          "output_type": "display_data"
        }
      ],
      "source": [
        "# Plot Training Results\n",
        "\n",
        "history_df[['accuracy', 'val_accuracy']].plot()\n",
        "history_df[['loss', 'val_loss']].plot()\n",
        "history2_df[['accuracy', 'val_accuracy']].plot()\n",
        "history2_df[['loss', 'val_loss']].plot()"
      ]
    },
    {
      "cell_type": "code",
      "execution_count": 263,
      "metadata": {},
      "outputs": [
        {
          "name": "stdout",
          "output_type": "stream",
          "text": [
            "14/14 [==============================] - 2s 126ms/step\n",
            "              precision    recall  f1-score   support\n",
            "\n",
            "           1       0.96      0.96      0.96       180\n",
            "           2       0.95      0.92      0.93       146\n",
            "           3       0.90      0.94      0.92       102\n",
            "           4       1.00      1.00      1.00        12\n",
            "\n",
            "    accuracy                           0.94       440\n",
            "   macro avg       0.95      0.96      0.95       440\n",
            "weighted avg       0.94      0.94      0.94       440\n",
            "\n"
          ]
        }
      ],
      "source": [
        "y_pred = model_lstm.predict(X_test)\n",
        "y_pred = np.argmax(y_pred, axis=1)\n",
        "\n",
        "print(classification_report(y_test, y_pred))"
      ]
    },
    {
      "cell_type": "markdown",
      "metadata": {
        "id": "_wLbMtT5_dHS"
      },
      "source": [
        "# Model Saving"
      ]
    },
    {
      "cell_type": "code",
      "execution_count": 244,
      "metadata": {
        "colab": {
          "base_uri": "https://localhost:8080/"
        },
        "id": "Vn8ms5_f_vyG",
        "outputId": "d1c64bbc-b2e4-46a3-aa01-580ee530a1d8"
      },
      "outputs": [
        {
          "name": "stdout",
          "output_type": "stream",
          "text": [
            "Model: \"sequential\"\n",
            "_________________________________________________________________\n",
            " Layer (type)                Output Shape              Param #   \n",
            "=================================================================\n",
            " embedding (Embedding)       (None, 200, 128)          1024000   \n",
            "                                                                 \n",
            " spatial_dropout1d (SpatialD  (None, 200, 128)         0         \n",
            " ropout1D)                                                       \n",
            "                                                                 \n",
            " lstm (LSTM)                 (None, 128)               131584    \n",
            "                                                                 \n",
            " dense (Dense)               (None, 128)               16512     \n",
            "                                                                 \n",
            " dropout (Dropout)           (None, 128)               0         \n",
            "                                                                 \n",
            " dense_1 (Dense)             (None, 5)                 645       \n",
            "                                                                 \n",
            "=================================================================\n",
            "Total params: 1,172,741\n",
            "Trainable params: 1,172,741\n",
            "Non-trainable params: 0\n",
            "_________________________________________________________________\n"
          ]
        }
      ],
      "source": [
        "# Model Summary\n",
        "\n",
        "model_lstm.summary()"
      ]
    },
    {
      "cell_type": "code",
      "execution_count": 245,
      "metadata": {
        "colab": {
          "base_uri": "https://localhost:8080/"
        },
        "id": "nmYjMPLT_2UA",
        "outputId": "a1ec3e27-1654-4c45-d062-bec8c36cca2c"
      },
      "outputs": [
        {
          "name": "stdout",
          "output_type": "stream",
          "text": [
            "Model: \"sequential\"\n",
            "_________________________________________________________________\n",
            " Layer (type)                Output Shape              Param #   \n",
            "=================================================================\n",
            " embedding (Embedding)       (None, 200, 128)          1024000   \n",
            "                                                                 \n",
            " spatial_dropout1d (SpatialD  (None, 200, 128)         0         \n",
            " ropout1D)                                                       \n",
            "                                                                 \n",
            " lstm (LSTM)                 (None, 128)               131584    \n",
            "                                                                 \n",
            " dense (Dense)               (None, 128)               16512     \n",
            "                                                                 \n",
            " dropout (Dropout)           (None, 128)               0         \n",
            "                                                                 \n",
            " dense_1 (Dense)             (None, 5)                 645       \n",
            "                                                                 \n",
            "=================================================================\n",
            "Total params: 1,172,741\n",
            "Trainable params: 0\n",
            "Non-trainable params: 1,172,741\n",
            "_________________________________________________________________\n"
          ]
        }
      ],
      "source": [
        "# Freeze Model\n",
        "\n",
        "model_lstm.trainable = False\n",
        "model_lstm.summary()"
      ]
    },
    {
      "cell_type": "code",
      "execution_count": 246,
      "metadata": {
        "id": "T3cCDPDA__sJ"
      },
      "outputs": [],
      "source": [
        "# Save ANN Model\n",
        "\n",
        "model_lstm.save('tweet_sentiment_model.h5')"
      ]
    },
    {
      "cell_type": "markdown",
      "metadata": {},
      "source": [
        "# Model Inference"
      ]
    },
    {
      "cell_type": "markdown",
      "metadata": {},
      "source": [
        "## Load Model"
      ]
    },
    {
      "cell_type": "code",
      "execution_count": 247,
      "metadata": {},
      "outputs": [
        {
          "name": "stdout",
          "output_type": "stream",
          "text": [
            "WARNING:tensorflow:Error in loading the saved optimizer state. As a result, your model is starting with a freshly initialized optimizer.\n"
          ]
        }
      ],
      "source": [
        "model_lstm = load_model('tweet_sentiment_model.h5')"
      ]
    },
    {
      "cell_type": "markdown",
      "metadata": {},
      "source": [
        "## Inferencing"
      ]
    },
    {
      "cell_type": "markdown",
      "metadata": {},
      "source": [
        "### Inference Data:"
      ]
    },
    {
      "cell_type": "markdown",
      "metadata": {},
      "source": [
        " 74355. 9142,Nvidia,Negative,\"It won't work, I've tried to repost it so many times\""
      ]
    },
    {
      "cell_type": "markdown",
      "metadata": {},
      "source": [
        " 74332. 9138,Nvidia,Neutral,Mac is trash... they make things difficult to use nvidia graphic cards. Everything after I update my Mac I have to switch over my cards\n"
      ]
    },
    {
      "cell_type": "markdown",
      "metadata": {},
      "source": [
        " 74322. 9136,Nvidia,Positive,\"This is actually amazing. It's obviously not influenced by the hardware screen resolution but unless you use slightly differently to PC 2, you could test your VR resolution for free. Can't ask for more than that or free driver updates.\""
      ]
    },
    {
      "cell_type": "code",
      "execution_count": 248,
      "metadata": {},
      "outputs": [
        {
          "data": {
            "text/html": [
              "<div>\n",
              "<style scoped>\n",
              "    .dataframe tbody tr th:only-of-type {\n",
              "        vertical-align: middle;\n",
              "    }\n",
              "\n",
              "    .dataframe tbody tr th {\n",
              "        vertical-align: top;\n",
              "    }\n",
              "\n",
              "    .dataframe thead th {\n",
              "        text-align: right;\n",
              "    }\n",
              "</style>\n",
              "<table border=\"1\" class=\"dataframe\">\n",
              "  <thead>\n",
              "    <tr style=\"text-align: right;\">\n",
              "      <th></th>\n",
              "      <th>tweet_content</th>\n",
              "    </tr>\n",
              "  </thead>\n",
              "  <tbody>\n",
              "    <tr>\n",
              "      <th>0</th>\n",
              "      <td>Mac is trash... they make things difficult to ...</td>\n",
              "    </tr>\n",
              "  </tbody>\n",
              "</table>\n",
              "</div>"
            ],
            "text/plain": [
              "                                       tweet_content\n",
              "0  Mac is trash... they make things difficult to ..."
            ]
          },
          "execution_count": 248,
          "metadata": {},
          "output_type": "execute_result"
        }
      ],
      "source": [
        "# Create A New Data\n",
        "\n",
        "data_inf = {\n",
        "    'tweet_content':\"Mac is trash... they make things difficult to use nvidia graphic cards. Everything after I update my Mac I have to switch over my cards\",\n",
        "}\n",
        "\n",
        "data_inf = pd.DataFrame([data_inf])\n",
        "data_inf"
      ]
    },
    {
      "cell_type": "code",
      "execution_count": 249,
      "metadata": {},
      "outputs": [],
      "source": [
        "replace_list = {r\"i'm\": 'i am',\n",
        "                r\"'re\": ' are',\n",
        "                r\"let’s\": 'let us',\n",
        "                r\"'s\":  ' is',\n",
        "                r\"'ve\": ' have',\n",
        "                r\"can't\": 'can not',\n",
        "                r\"cannot\": 'can not',\n",
        "                r\"shan’t\": 'shall not',\n",
        "                r\"n't\": ' not',\n",
        "                r\"'d\": ' would',\n",
        "                r\"'ll\": ' will',\n",
        "                r\"'scuse\": 'excuse',\n",
        "                ',': ' ,',\n",
        "                '.': ' .',\n",
        "                '!': ' !',\n",
        "                '?': ' ?',\n",
        "                '\\s+': ' '}\n",
        "def clean_text(text):\n",
        "    text = text.lower()\n",
        "    for s in replace_list:\n",
        "        text = text.replace(s, replace_list[s])\n",
        "    text = ' '.join(text.split())\n",
        "    return text"
      ]
    },
    {
      "cell_type": "code",
      "execution_count": 250,
      "metadata": {},
      "outputs": [],
      "source": [
        "X = data_inf['tweet_content'].apply(lambda p: clean_text(p))"
      ]
    },
    {
      "cell_type": "code",
      "execution_count": 251,
      "metadata": {},
      "outputs": [],
      "source": [
        "REPLACE_WITH_SPACE = re.compile(\"(@)\")\n",
        "SPACE = \" \"\n",
        "english_stop_words = stopwords.words('english')\n",
        "\n",
        "def reviews(reviews):  \n",
        "    reviews = [REPLACE_WITH_SPACE.sub(SPACE, line.lower()) for line in reviews]\n",
        "    \n",
        "    return reviews\n",
        "\n",
        "def remove_stop_words(corpus):\n",
        "    removed_stop_words = []\n",
        "    for review in corpus:\n",
        "        removed_stop_words.append(\n",
        "            ' '.join([word for word in review.split()  if word not in english_stop_words]))\n",
        "    return removed_stop_words\n",
        "\n",
        "def get_stemmed_text(corpus):\n",
        "    stemmer = PorterStemmer()\n",
        "\n",
        "    return [' '.join([stemmer.stem(word) for word in review.split()]) for review in corpus]"
      ]
    },
    {
      "cell_type": "code",
      "execution_count": 252,
      "metadata": {},
      "outputs": [],
      "source": [
        "reviewtweet = reviews(X)\n",
        "no_stop_words_tweet = remove_stop_words(reviewtweet)\n",
        "stemmed_reviews_tweet = get_stemmed_text(no_stop_words_tweet)"
      ]
    },
    {
      "cell_type": "code",
      "execution_count": 253,
      "metadata": {},
      "outputs": [],
      "source": [
        "max_words = 8000\n",
        "\n",
        "\n",
        "tokenizer = Tokenizer(\n",
        "    num_words = max_words,\n",
        "    filters = '\"#$%&()*+-/:;<=>@[\\]^_`{|}~'\n",
        ")\n",
        "tokenizer.fit_on_texts(stemmed_reviews_tweet)\n",
        "X = tokenizer.texts_to_sequences(stemmed_reviews_tweet)\n",
        "X = pad_sequences(X, maxlen = 200)"
      ]
    },
    {
      "cell_type": "code",
      "execution_count": 254,
      "metadata": {},
      "outputs": [
        {
          "name": "stdout",
          "output_type": "stream",
          "text": [
            "1/1 [==============================] - 1s 577ms/step\n"
          ]
        },
        {
          "data": {
            "text/plain": [
              "array([3], dtype=int64)"
            ]
          },
          "execution_count": 254,
          "metadata": {},
          "output_type": "execute_result"
        }
      ],
      "source": [
        "y_pred_inf = model_lstm.predict(X)\n",
        "y_pred_inf=np.argmax(y_pred_inf, axis=1)\n",
        "y_pred_inf"
      ]
    },
    {
      "cell_type": "markdown",
      "metadata": {},
      "source": [
        "# Conclusion"
      ]
    },
    {
      "cell_type": "markdown",
      "metadata": {},
      "source": [
        "Model that created can determine the sentiment of tweets with 0.94 accuracy and 0.95 precision. Based on EDA, nvidia have more negative sentiment tweets although the difference is little which is 4%. NVIDIA must check on the negative tweets and fix the issue, but also need to check on positive tweets to maintain even to improve."
      ]
    }
  ],
  "metadata": {
    "accelerator": "GPU",
    "colab": {
      "gpuType": "T4",
      "provenance": [],
      "toc_visible": true
    },
    "kernelspec": {
      "display_name": "Python 3",
      "name": "python3"
    },
    "language_info": {
      "codemirror_mode": {
        "name": "ipython",
        "version": 3
      },
      "file_extension": ".py",
      "mimetype": "text/x-python",
      "name": "python",
      "nbconvert_exporter": "python",
      "pygments_lexer": "ipython3",
      "version": "3.9.16"
    }
  },
  "nbformat": 4,
  "nbformat_minor": 0
}
